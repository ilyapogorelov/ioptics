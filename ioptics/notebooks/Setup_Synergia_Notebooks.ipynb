{
 "cells": [
  {
   "cell_type": "markdown",
   "metadata": {},
   "source": [
    "#### Jupyter Setup for Synergia Notebooks\n",
    "\n",
    "This simple notebook is used to make sure the necessary Github repositories have been cloned into a good working area, and that the necessary RadiaSoft Python modules have been installed (possibly updated) and will be available for import by other notebooks.\n",
    "\n",
    "If 'force_module_update' is set to True, then this notebook will grab the most recent version of the 'rsbeams' and 'rssynergia' Python modules and install them.  If it's set to False, then your existing installation will not be updated."
   ]
  },
  {
   "cell_type": "code",
   "execution_count": null,
   "metadata": {
    "collapsed": true
   },
   "outputs": [],
   "source": [
    "# system imports\n",
    "import sys, os\n",
    "\n",
    "# import rsbeams and rssynergia modules\n",
    "force_module_update = False\n",
    "if force_module_update:\n",
    "    !pip uninstall rsbeams\n",
    "    !pip -q install git+git://github.com/radiasoft/rsbeams\n",
    "    !pip uninstall rssynergia\n",
    "    !pip -q install git+git://github.com/radiasoft/rssynergia\n",
    "try:\n",
    "    import rsbeams\n",
    "except ImportError:\n",
    "    !pip -q install git+git://github.com/radiasoft/rsbeams\n",
    "    import rsbeams\n",
    "try:\n",
    "    import rssynergia\n",
    "except ImportError:\n",
    "    !pip -q install git+git://github.com/radiasoft/rssynergia\n",
    "    import rssynergia\n",
    "\n",
    "# specify directory for git clones\n",
    "MY_LOCAL='/home/vagrant/jupyter'   # use this on RadiaSoft's Jupyter server\n",
    "\n",
    "# clone some RadiaSoft repositories, if necessary\n",
    "if os.path.isdir(MY_LOCAL+'/ioptics') == False:\n",
    "    !git clone https://github.com/radiasoft/ioptics $MY_LOCAL/ioptics\n",
    "\n",
    "# install RadiaSoft styles for matplotlib, if necessary\n",
    "if os.path.isdir('/home/vagrant/.config/matplotlib') == False:\n",
    "    !mkdir /home/vagrant/.config/matplotlib\n",
    "if os.path.isdir('/home/vagrant/.config/matplotlib/stylelib') == False:\n",
    "    !mkdir /home/vagrant/.config/matplotlib/stylelib\n",
    "if os.path.isfile('/home/vagrant/.config/matplotlib/stylelib/rs_paper.mplstyle') == False:\n",
    "    !cp $MY_LOCAL/rsbeams/rsbeams/matplotlib/stylelib/*.mplstyle /home/vagrant/.config/matplotlib/stylelib/"
   ]
  },
  {
   "cell_type": "code",
   "execution_count": null,
   "metadata": {
    "collapsed": true
   },
   "outputs": [],
   "source": []
  }
 ],
 "metadata": {
  "kernelspec": {
   "display_name": "Python 2",
   "language": "python",
   "name": "python2"
  },
  "language_info": {
   "codemirror_mode": {
    "name": "ipython",
    "version": 2
   },
   "file_extension": ".py",
   "mimetype": "text/x-python",
   "name": "python",
   "nbconvert_exporter": "python",
   "pygments_lexer": "ipython2",
   "version": "2.7.10"
  }
 },
 "nbformat": 4,
 "nbformat_minor": 1
}
